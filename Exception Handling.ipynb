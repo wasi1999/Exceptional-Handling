{
 "cells": [
  {
   "cell_type": "code",
   "execution_count": null,
   "metadata": {},
   "outputs": [],
   "source": [
    "try:\n",
    "    print(5/0)\n",
    "except I:\n",
    "    print('cant divide')"
   ]
  },
  {
   "cell_type": "code",
   "execution_count": null,
   "metadata": {},
   "outputs": [],
   "source": [
    "print(5/0)"
   ]
  },
  {
   "cell_type": "code",
   "execution_count": null,
   "metadata": {},
   "outputs": [],
   "source": [
    "print('Give me two numvers to divide')\n",
    "print('Press q to quit')\n",
    "\n",
    "while True:\n",
    "    f_number=input('Enter first number:')\n",
    "    if f_number=='q':\n",
    "        break\n",
    "    s_number=input('Enter second number:')\n",
    "    if s_number=='q':\n",
    "        break\n",
    "    try:\n",
    "        ans=int(f_number)/int(s_number)\n",
    "    except ZeroDivisionError:\n",
    "        print('cant divide by 0')\n",
    "    else:\n",
    "        print('Answer is ',ans)\n",
    "    "
   ]
  },
  {
   "cell_type": "code",
   "execution_count": null,
   "metadata": {},
   "outputs": [],
   "source": [
    "import pandas as pd\n",
    "try:\n",
    "    x=pd.read_csv('bbc-text.csv')\n",
    "    \n",
    "except FileNotFoundError:\n",
    "    print('not found')\n",
    "else:\n",
    "    print(x.head())\n",
    "    \n"
   ]
  },
  {
   "cell_type": "code",
   "execution_count": null,
   "metadata": {},
   "outputs": [],
   "source": [
    "file.head()"
   ]
  },
  {
   "cell_type": "code",
   "execution_count": null,
   "metadata": {},
   "outputs": [],
   "source": [
    "def count_words(fname):\n",
    "    try:\n",
    "        with open(fname) as f_obj:\n",
    "            contents=f_obj.read()\n",
    "    except FileNotFoundError:\n",
    "        print('File not found')\n",
    "    else:\n",
    "        words=contents.split()\n",
    "        length=len(words)\n",
    "        print('The length of ' +fname+' is',length)\n",
    "fnames=['alice.txt','example.html','python.txt',]\n",
    "for fname in fnames:\n",
    "    count_words(fname)\n",
    "\n",
    "        "
   ]
  },
  {
   "cell_type": "markdown",
   "metadata": {},
   "source": [
    "###  One common problem when prompting for numerical input occurs when people provide text instead of numbers. When you try to convert the input to an int, you’ll get a TypeError. Write a program that prompts for two numbers. Add them together and print the result. Catch the TypeError if either input value is not a number, and print a friendly error message. Test your program by entering two numbers and then by entering some text instead of a number "
   ]
  },
  {
   "cell_type": "code",
   "execution_count": 1,
   "metadata": {},
   "outputs": [],
   "source": [
    "def add():\n",
    "    while True:\n",
    "        try:\n",
    "            x=int(input('Enter 1 number:'))\n",
    "            y=int(input('Enter 1 number:'))\n",
    "        except ValueError:\n",
    "            print('The input is not a number')\n",
    "            break\n",
    "        else:\n",
    "            print(x+y)"
   ]
  },
  {
   "cell_type": "code",
   "execution_count": 2,
   "metadata": {},
   "outputs": [
    {
     "name": "stdout",
     "output_type": "stream",
     "text": [
      "Enter 1 number:2\n",
      "Enter 1 number:3\n",
      "5\n",
      "Enter 1 number:4\n",
      "Enter 1 number:d\n",
      "The input is not a number\n"
     ]
    }
   ],
   "source": [
    "add()"
   ]
  },
  {
   "cell_type": "markdown",
   "metadata": {},
   "source": [
    "#### Make two files, cats.txt and dogs.txt. Store at least three names of cats in the first file and three names of dogs in the second file. Write a program that tries to read these files and print the contents of the file to the screen. Wrap your code in a try-except block to catch the FileNotFound error, and print a friendly message if a file is missing. Move one of the files to a different location on your system, and make sure the code in the except block executes properly. "
   ]
  },
  {
   "cell_type": "code",
   "execution_count": 9,
   "metadata": {},
   "outputs": [],
   "source": [
    "def file_names(f1,f2):                        #When files are in different directory\n",
    "    try:\n",
    "        with open(f1) as fone:\n",
    "            contents1=fone.read()\n",
    "        with open(f2) as ftwo:\n",
    "            contents2=ftwo.read()\n",
    "    except FileNotFoundError:\n",
    "        print('Files not found')\n",
    "    else:\n",
    "        print(contents1,contents2)"
   ]
  },
  {
   "cell_type": "code",
   "execution_count": 10,
   "metadata": {},
   "outputs": [
    {
     "name": "stdout",
     "output_type": "stream",
     "text": [
      "Files founded\n"
     ]
    }
   ],
   "source": [
    "file_names('cats.txt','dogs.txt')"
   ]
  },
  {
   "cell_type": "code",
   "execution_count": 15,
   "metadata": {},
   "outputs": [
    {
     "name": "stdout",
     "output_type": "stream",
     "text": [
      "Dasiy,poppy,bella \n",
      " charlie,lola,coca\n"
     ]
    }
   ],
   "source": [
    "def file_names(f1,f2):                        #When files are in same directory\n",
    "    try:\n",
    "        with open(f1) as fone:\n",
    "            contents1=fone.read()\n",
    "        with open(f2) as ftwo:\n",
    "            contents2=ftwo.read()\n",
    "    except FileNotFoundError:\n",
    "        print('Files not found')\n",
    "    else:\n",
    "        print(contents1,'\\n',contents2)\n",
    "file_names('cats.txt','dogs.txt')"
   ]
  },
  {
   "cell_type": "code",
   "execution_count": 17,
   "metadata": {},
   "outputs": [],
   "source": [
    "import json\n",
    "number=[2,3,523,1]\n",
    "file='number.json'\n",
    "with open(file,'w') as fname:\n",
    "    json.dump(number,fname)\n",
    "    "
   ]
  },
  {
   "cell_type": "code",
   "execution_count": 20,
   "metadata": {},
   "outputs": [
    {
     "name": "stdout",
     "output_type": "stream",
     "text": [
      "[2, 3, 523, 1]\n"
     ]
    }
   ],
   "source": [
    "with open('number.json') as f:\n",
    "    content=json.load(f)\n",
    "print(content)"
   ]
  },
  {
   "cell_type": "code",
   "execution_count": 23,
   "metadata": {},
   "outputs": [
    {
     "name": "stdout",
     "output_type": "stream",
     "text": [
      "Enter your name:wasi\n",
      "We will remember your name  wasi\n"
     ]
    }
   ],
   "source": [
    "username=input('Enter your name:')\n",
    "fname='name.json'\n",
    "with open(fname,'w') as f:\n",
    "    name=json.dump(username,f)\n",
    "    print('We will remember your name ',username)"
   ]
  },
  {
   "cell_type": "code",
   "execution_count": 28,
   "metadata": {},
   "outputs": [
    {
     "name": "stdout",
     "output_type": "stream",
     "text": [
      "Welcome back wasi\n"
     ]
    }
   ],
   "source": [
    "\n",
    "with open(fname) as f:\n",
    "    unload=json.load(f)\n",
    "    print('Welcome back',unload)\n"
   ]
  },
  {
   "cell_type": "markdown",
   "metadata": {},
   "source": [
    "#### Write a program that prompts for the user’s favorite number. Use json.dump() to store this number in a file. Write a separate program that reads in this value and prints the message, “I know your favorite number! It’s _____.” "
   ]
  },
  {
   "cell_type": "code",
   "execution_count": 30,
   "metadata": {},
   "outputs": [
    {
     "name": "stdout",
     "output_type": "stream",
     "text": [
      "Enter your favourite number:3\n"
     ]
    }
   ],
   "source": [
    "favourite_number=int(input('Enter your favourite number:'))\n",
    "number='Favourite.json'\n",
    "with open(number,'w') as num:\n",
    "    name=json.dump(favourite_number,num)\n",
    "    "
   ]
  },
  {
   "cell_type": "code",
   "execution_count": 33,
   "metadata": {},
   "outputs": [
    {
     "name": "stdout",
     "output_type": "stream",
     "text": [
      "I know your favorite number! It’s 3\n"
     ]
    }
   ],
   "source": [
    "with open(number) as num:\n",
    "    unload=json.load(num)\n",
    "    print('I know your favorite number! It’s',unload)"
   ]
  },
  {
   "cell_type": "markdown",
   "metadata": {},
   "source": [
    "####  The final listing for remember_me.py assumes either that the user has already entered their username or that the program is running for the first time. We should modify it in case the current user is not the person who last used the program. Before printing a welcome back message in greet_user(), ask the user if this is the correct username. If it’s not, call get_new_username() to get the correct username. "
   ]
  },
  {
   "cell_type": "code",
   "execution_count": 41,
   "metadata": {},
   "outputs": [],
   "source": [
    "import json\n",
    "\n",
    "def get_stored_username():\n",
    "    \"\"\"Get stored username if available.\"\"\"\n",
    "    filename = 'username.json'\n",
    "    try:\n",
    "        with open(filename) as f_obj:\n",
    "            username = json.load(f_obj)\n",
    "    except FileNotFoundError:\n",
    "        return None\n",
    "    else:\n",
    "        return username\n",
    "\n",
    "def get_new_username():\n",
    "    \"\"\"Prompt for a new username.\"\"\"\n",
    "    username = input(\"What is your name? \")\n",
    "    filename = 'username.json'\n",
    "    with open(filename, 'w') as f_obj:\n",
    "        json.dump(username, f_obj)\n",
    "    return username\n",
    "\n",
    "def greet_user():\n",
    "    \"\"\"Greet the user by name.\"\"\"\n",
    "    username = get_stored_username()\n",
    "    if username:\n",
    "        correct = input(\"Are you \" + username + \"? (y/n) \")\n",
    "        if correct == 'y':\n",
    "            print(\"Welcome back, \" + username + \"!\")\n",
    "        else:\n",
    "            username = get_new_username()\n",
    "            print(\"We'll remember you when you come back, \" + username + \"!\")\n",
    "    else:\n",
    "        username = get_new_username()\n",
    "        print(\"We'll remember you when you come back, \" + username + \"!\")\n"
   ]
  },
  {
   "cell_type": "code",
   "execution_count": 42,
   "metadata": {},
   "outputs": [
    {
     "name": "stdout",
     "output_type": "stream",
     "text": [
      "Are you wasi? (y/n) n\n",
      "What is your name? \n",
      "We'll remember you when you come back, !\n"
     ]
    }
   ],
   "source": [
    "greet_user()"
   ]
  },
  {
   "cell_type": "code",
   "execution_count": 40,
   "metadata": {},
   "outputs": [],
   "source": []
  },
  {
   "cell_type": "code",
   "execution_count": null,
   "metadata": {},
   "outputs": [],
   "source": []
  }
 ],
 "metadata": {
  "kernelspec": {
   "display_name": "Python 3",
   "language": "python",
   "name": "python3"
  },
  "language_info": {
   "codemirror_mode": {
    "name": "ipython",
    "version": 3
   },
   "file_extension": ".py",
   "mimetype": "text/x-python",
   "name": "python",
   "nbconvert_exporter": "python",
   "pygments_lexer": "ipython3",
   "version": "3.7.3"
  }
 },
 "nbformat": 4,
 "nbformat_minor": 2
}
